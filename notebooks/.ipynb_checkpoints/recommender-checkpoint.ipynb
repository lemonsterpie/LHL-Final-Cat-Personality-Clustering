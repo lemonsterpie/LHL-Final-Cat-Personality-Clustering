{
 "cells": [
  {
   "cell_type": "code",
   "execution_count": 15,
   "id": "e199cec3-1391-42e2-95bf-3b872adaf445",
   "metadata": {},
   "outputs": [],
   "source": [
    "# Imports \n",
    "\n",
    "import pandas as pd \n",
    "import numpy as np\n",
    "import os "
   ]
  },
  {
   "cell_type": "code",
   "execution_count": 3,
   "id": "38fa9b87-2d47-49cc-8c22-b922a05e876a",
   "metadata": {},
   "outputs": [
    {
     "data": {
      "text/html": [
       "<div>\n",
       "<style scoped>\n",
       "    .dataframe tbody tr th:only-of-type {\n",
       "        vertical-align: middle;\n",
       "    }\n",
       "\n",
       "    .dataframe tbody tr th {\n",
       "        vertical-align: top;\n",
       "    }\n",
       "\n",
       "    .dataframe thead th {\n",
       "        text-align: right;\n",
       "    }\n",
       "</style>\n",
       "<table border=\"1\" class=\"dataframe\">\n",
       "  <thead>\n",
       "    <tr style=\"text-align: right;\">\n",
       "      <th></th>\n",
       "      <th>Factor1</th>\n",
       "      <th>Factor2</th>\n",
       "      <th>Factor3</th>\n",
       "      <th>Factor4</th>\n",
       "    </tr>\n",
       "  </thead>\n",
       "  <tbody>\n",
       "    <tr>\n",
       "      <th>0</th>\n",
       "      <td>-1.097881</td>\n",
       "      <td>3.042659</td>\n",
       "      <td>0.441110</td>\n",
       "      <td>1.794368</td>\n",
       "    </tr>\n",
       "    <tr>\n",
       "      <th>1</th>\n",
       "      <td>0.837712</td>\n",
       "      <td>5.054604</td>\n",
       "      <td>4.593511</td>\n",
       "      <td>1.305088</td>\n",
       "    </tr>\n",
       "    <tr>\n",
       "      <th>2</th>\n",
       "      <td>-2.678498</td>\n",
       "      <td>5.816443</td>\n",
       "      <td>-3.505566</td>\n",
       "      <td>-0.007615</td>\n",
       "    </tr>\n",
       "    <tr>\n",
       "      <th>3</th>\n",
       "      <td>14.018654</td>\n",
       "      <td>1.812564</td>\n",
       "      <td>3.009246</td>\n",
       "      <td>-6.586102</td>\n",
       "    </tr>\n",
       "    <tr>\n",
       "      <th>4</th>\n",
       "      <td>-9.822322</td>\n",
       "      <td>-3.651578</td>\n",
       "      <td>0.906058</td>\n",
       "      <td>-2.784624</td>\n",
       "    </tr>\n",
       "    <tr>\n",
       "      <th>...</th>\n",
       "      <td>...</td>\n",
       "      <td>...</td>\n",
       "      <td>...</td>\n",
       "      <td>...</td>\n",
       "    </tr>\n",
       "    <tr>\n",
       "      <th>2759</th>\n",
       "      <td>0.087177</td>\n",
       "      <td>0.925191</td>\n",
       "      <td>-1.526079</td>\n",
       "      <td>-3.750073</td>\n",
       "    </tr>\n",
       "    <tr>\n",
       "      <th>2760</th>\n",
       "      <td>-3.611693</td>\n",
       "      <td>2.389590</td>\n",
       "      <td>7.200176</td>\n",
       "      <td>-3.914275</td>\n",
       "    </tr>\n",
       "    <tr>\n",
       "      <th>2761</th>\n",
       "      <td>-4.682466</td>\n",
       "      <td>-2.267832</td>\n",
       "      <td>-0.798776</td>\n",
       "      <td>2.611891</td>\n",
       "    </tr>\n",
       "    <tr>\n",
       "      <th>2762</th>\n",
       "      <td>1.248353</td>\n",
       "      <td>-2.739698</td>\n",
       "      <td>-2.559083</td>\n",
       "      <td>-5.045817</td>\n",
       "    </tr>\n",
       "    <tr>\n",
       "      <th>2763</th>\n",
       "      <td>-3.917706</td>\n",
       "      <td>-1.575847</td>\n",
       "      <td>-0.209593</td>\n",
       "      <td>-0.237547</td>\n",
       "    </tr>\n",
       "  </tbody>\n",
       "</table>\n",
       "<p>2764 rows × 4 columns</p>\n",
       "</div>"
      ],
      "text/plain": [
       "        Factor1   Factor2   Factor3   Factor4\n",
       "0     -1.097881  3.042659  0.441110  1.794368\n",
       "1      0.837712  5.054604  4.593511  1.305088\n",
       "2     -2.678498  5.816443 -3.505566 -0.007615\n",
       "3     14.018654  1.812564  3.009246 -6.586102\n",
       "4     -9.822322 -3.651578  0.906058 -2.784624\n",
       "...         ...       ...       ...       ...\n",
       "2759   0.087177  0.925191 -1.526079 -3.750073\n",
       "2760  -3.611693  2.389590  7.200176 -3.914275\n",
       "2761  -4.682466 -2.267832 -0.798776  2.611891\n",
       "2762   1.248353 -2.739698 -2.559083 -5.045817\n",
       "2763  -3.917706 -1.575847 -0.209593 -0.237547\n",
       "\n",
       "[2764 rows x 4 columns]"
      ]
     },
     "execution_count": 3,
     "metadata": {},
     "output_type": "execute_result"
    }
   ],
   "source": [
    "data = pd.read_csv('../data/data_reduced.csv')\n",
    "raw_data = pd.read_csv('../data/data_notscaled.csv')\n",
    "data"
   ]
  },
  {
   "cell_type": "markdown",
   "id": "c6f56bcd-d212-4f06-9b3d-2d507665d581",
   "metadata": {},
   "source": [
    "I want to give the user the option to see recommended cats that are most or least like their own cat in each trait. For example, someone may want a cat that is similar to their current cat in terms of dominance and intelligence, but the opposite in terms of activity level. In order to do so I will define a custom distance. For each trait, the distance must be minimized if the user selected to see recommendations that are the most similar in that trait, and maximized if they wish to see the opposite. "
   ]
  },
  {
   "cell_type": "code",
   "execution_count": 4,
   "id": "eed23f68-42af-4e44-831b-eb5fa801d495",
   "metadata": {},
   "outputs": [],
   "source": [
    "traits = data.columns.tolist()"
   ]
  },
  {
   "cell_type": "code",
   "execution_count": 47,
   "id": "bfa660fc-de8b-414f-8fac-fa1b666633a5",
   "metadata": {},
   "outputs": [],
   "source": [
    "trying = np.array(test) - np.array(test2)"
   ]
  },
  {
   "cell_type": "code",
   "execution_count": null,
   "id": "bd930d5f-2397-40a5-ae04-b090bbc50252",
   "metadata": {},
   "outputs": [],
   "source": [
    "# Defining the maxmimun distance squared for each trait\n",
    "\n",
    "max_dists_sq = (data.max() - data.min()) ** 2"
   ]
  },
  {
   "cell_type": "code",
   "execution_count": 101,
   "id": "cac75bf8-1d8b-432d-8f78-8f8bf67ad58f",
   "metadata": {},
   "outputs": [],
   "source": [
    "def distance(user1, user2, same_traits=None, different_traits=None):\n",
    "\n",
    "    user1 = np.array(user1, dtype=float).flatten()\n",
    "    user2 = np.array(user2, dtype=float).flatten()\n",
    "    diff = user1 - user2 \n",
    "    dist = 0.0\n",
    "    n = len(user1)\n",
    "\n",
    "    # if no traits are specified to be similar or different, the default is to recommend based on similarities in all traits \n",
    "    if same_traits is None and different_traits is None:\n",
    "        same_traits = range(n)\n",
    "        different_traits = []\n",
    "\n",
    "    elif same_traits is None:\n",
    "        same_traits = [i for i in range(n) if i not in different_traits]\n",
    "        \n",
    "    elif different_traits is None:\n",
    "        different_traits = [i for i in range(n) if i not in same_traits]\n",
    "        \n",
    "    for i in same_traits:\n",
    "        dist += diff[i] ** 2\n",
    "\n",
    "    for i in different_traits:\n",
    "        max_val = max_dists_sq.iloc[i]\n",
    "        dist += (max_val - diff[i] ** 2)\n",
    "\n",
    "    return dist"
   ]
  },
  {
   "cell_type": "code",
   "execution_count": 102,
   "id": "a227bddf-ee37-4d1c-a2c1-fa3b0b87a6b2",
   "metadata": {},
   "outputs": [],
   "source": [
    "def recommend(new_user, data, same_traits=None, different_traits=None, n_recs=10, factors=None):\n",
    "\n",
    "    new_user = np.array(new_user, dtype=float)\n",
    "    distances = []\n",
    "    if factors is None:\n",
    "        factors=data.columns.tolist()\n",
    "\n",
    "    for i, row in data.iterrows(): \n",
    "        user2 = np.array(row[factors], dtype=float)\n",
    "\n",
    "        d = distance(new_user, user2, same_traits, different_traits)\n",
    "        distances.append((i, d))\n",
    "    \n",
    "    # Sort by ascending distance (best matches first)\n",
    "    distances.sort(key=lambda x: x[1])\n",
    "    \n",
    "    return distances[:n_recs]\n",
    "    "
   ]
  },
  {
   "cell_type": "code",
   "execution_count": 84,
   "id": "5804a8aa-2150-44a7-827e-a6a19f3c2987",
   "metadata": {},
   "outputs": [
    {
     "data": {
      "text/plain": [
       "[(507, 952.6126958737867), (601, 953.7503478744593), (154, 966.4527494838017)]"
      ]
     },
     "execution_count": 84,
     "metadata": {},
     "output_type": "execute_result"
    }
   ],
   "source": [
    "recommend(test, data, same_traits, diff_traits, n_recs=3)"
   ]
  },
  {
   "cell_type": "code",
   "execution_count": 86,
   "id": "07c630fb-84b1-477a-b2ab-b9e5b1804495",
   "metadata": {},
   "outputs": [
    {
     "data": {
      "text/plain": [
       "[(2209, 293.90414086439074),\n",
       " (2309, 307.8656977938675),\n",
       " (2499, 310.7409865516853),\n",
       " (1147, 338.31722008322333),\n",
       " (1911, 340.8500860084431),\n",
       " (547, 343.5479729338443),\n",
       " (571, 348.14735703658994),\n",
       " (877, 352.30603096949255),\n",
       " (2760, 354.62713165479283),\n",
       " (2304, 356.74200964041484)]"
      ]
     },
     "execution_count": 86,
     "metadata": {},
     "output_type": "execute_result"
    }
   ],
   "source": [
    "recommend(test2, data, different_traits=[2])"
   ]
  },
  {
   "cell_type": "code",
   "execution_count": 103,
   "id": "7ea22607-c6f5-4319-83b3-01ed21d1e12a",
   "metadata": {},
   "outputs": [
    {
     "data": {
      "text/plain": [
       "[(1377, 0.5653610501056178),\n",
       " (1742, 0.6253745217185432),\n",
       " (1733, 0.6746091782413869),\n",
       " (2370, 1.049443787696961),\n",
       " (1535, 1.5042388336411647),\n",
       " (2199, 1.8389207553460123),\n",
       " (1783, 2.2837995509971996),\n",
       " (1056, 2.365998475544991),\n",
       " (478, 2.735586405991848),\n",
       " (1650, 3.021892567706973)]"
      ]
     },
     "execution_count": 103,
     "metadata": {},
     "output_type": "execute_result"
    }
   ],
   "source": [
    "recommend(test4, data)"
   ]
  },
  {
   "cell_type": "code",
   "execution_count": 106,
   "id": "6754e4c7-003f-4ba4-8ba4-a8152b1411c5",
   "metadata": {},
   "outputs": [
    {
     "data": {
      "text/plain": [
       "Vigilant                 5\n",
       "Stable                   6\n",
       "Bold                     4\n",
       "Clumsy                   2\n",
       "Defiant                  4\n",
       "Gentle                   4\n",
       "Constrained              5\n",
       "Inquisitive              4\n",
       "Inventive                6\n",
       "Irritable                2\n",
       "Distractable             3\n",
       "Erratic                  3\n",
       "Solitary                 3\n",
       "Impulsive                4\n",
       "Quitting                 3\n",
       "Independent              5\n",
       "Smart                    6\n",
       "Jealous                  6\n",
       "Fearful_other_cats       3\n",
       "Persevering              5\n",
       "Greedy                   3\n",
       "Friendly_other_cats      4\n",
       "Submissive               4\n",
       "Dominant                 4\n",
       "Reckless                 3\n",
       "Predictable              6\n",
       "Suspicious               5\n",
       "Individualistic          6\n",
       "Affectionate             6\n",
       "Insecure                 3\n",
       "Bullying                 5\n",
       "Curious                  4\n",
       "Aimless                  2\n",
       "Deliberate               6\n",
       "Tense                    3\n",
       "Fearful_of_people        3\n",
       "Cool                     5\n",
       "Aggressive_to_people     3\n",
       "Calm                     5\n",
       "Aggressive_other_cats    4\n",
       "Excitable                3\n",
       "Friendly_to_people       5\n",
       "Playful                  5\n",
       "Vocal                    6\n",
       "Decisive                 5\n",
       "Self_assured             6\n",
       "Anxious                  3\n",
       "Trusting                 5\n",
       "Active                   5\n",
       "Cooperative              5\n",
       "Shy                      3\n",
       "Cat_sex                  1\n",
       "Name: 1377, dtype: int64"
      ]
     },
     "execution_count": 106,
     "metadata": {},
     "output_type": "execute_result"
    }
   ],
   "source": [
    "raw_data.iloc[1377]"
   ]
  },
  {
   "cell_type": "code",
   "execution_count": 105,
   "id": "8702e20a-36dc-402c-b1ae-274ef42a3d7b",
   "metadata": {},
   "outputs": [
    {
     "data": {
      "text/plain": [
       "array([[-0.78446454],\n",
       "       [ 0.78446454],\n",
       "       [ 1.17669681],\n",
       "       [-1.17669681]])"
      ]
     },
     "execution_count": 105,
     "metadata": {},
     "output_type": "execute_result"
    }
   ],
   "source": [
    "test4"
   ]
  },
  {
   "cell_type": "code",
   "execution_count": 92,
   "id": "7adfe37b-34c6-49c4-a2de-c90225b25aef",
   "metadata": {},
   "outputs": [],
   "source": [
    "from sklearn.preprocessing import StandardScaler\n",
    "\n",
    "test3 = np.array([2, 6, 7, 1])\n",
    "\n",
    "scaler = StandardScaler()\n",
    "test4 = scaler.fit_transform(test3.reshape(-1, 1))"
   ]
  },
  {
   "cell_type": "code",
   "execution_count": 113,
   "id": "cb51647b-3b25-4392-b9fc-b0c9e3fb3bbf",
   "metadata": {},
   "outputs": [
    {
     "data": {
      "text/html": [
       "<div>\n",
       "<style scoped>\n",
       "    .dataframe tbody tr th:only-of-type {\n",
       "        vertical-align: middle;\n",
       "    }\n",
       "\n",
       "    .dataframe tbody tr th {\n",
       "        vertical-align: top;\n",
       "    }\n",
       "\n",
       "    .dataframe thead th {\n",
       "        text-align: right;\n",
       "    }\n",
       "</style>\n",
       "<table border=\"1\" class=\"dataframe\">\n",
       "  <thead>\n",
       "    <tr style=\"text-align: right;\">\n",
       "      <th></th>\n",
       "      <th>Factor1</th>\n",
       "      <th>Factor2</th>\n",
       "      <th>Factor3</th>\n",
       "      <th>Factor4</th>\n",
       "    </tr>\n",
       "  </thead>\n",
       "  <tbody>\n",
       "    <tr>\n",
       "      <th>count</th>\n",
       "      <td>2.764000e+03</td>\n",
       "      <td>2.764000e+03</td>\n",
       "      <td>2.764000e+03</td>\n",
       "      <td>2.764000e+03</td>\n",
       "    </tr>\n",
       "    <tr>\n",
       "      <th>mean</th>\n",
       "      <td>9.044863e-08</td>\n",
       "      <td>2.532562e-08</td>\n",
       "      <td>-1.447178e-08</td>\n",
       "      <td>-2.170767e-08</td>\n",
       "    </tr>\n",
       "    <tr>\n",
       "      <th>std</th>\n",
       "      <td>6.536558e+00</td>\n",
       "      <td>4.870924e+00</td>\n",
       "      <td>2.912282e+00</td>\n",
       "      <td>2.568366e+00</td>\n",
       "    </tr>\n",
       "    <tr>\n",
       "      <th>min</th>\n",
       "      <td>-1.547531e+01</td>\n",
       "      <td>-1.452431e+01</td>\n",
       "      <td>-7.928900e+00</td>\n",
       "      <td>-8.329920e+00</td>\n",
       "    </tr>\n",
       "    <tr>\n",
       "      <th>25%</th>\n",
       "      <td>-5.099490e+00</td>\n",
       "      <td>-3.473265e+00</td>\n",
       "      <td>-1.972415e+00</td>\n",
       "      <td>-1.725280e+00</td>\n",
       "    </tr>\n",
       "    <tr>\n",
       "      <th>50%</th>\n",
       "      <td>-4.558100e-01</td>\n",
       "      <td>-2.075600e-01</td>\n",
       "      <td>-1.688400e-01</td>\n",
       "      <td>-6.886500e-02</td>\n",
       "    </tr>\n",
       "    <tr>\n",
       "      <th>75%</th>\n",
       "      <td>4.603195e+00</td>\n",
       "      <td>3.230165e+00</td>\n",
       "      <td>1.746265e+00</td>\n",
       "      <td>1.585002e+00</td>\n",
       "    </tr>\n",
       "    <tr>\n",
       "      <th>max</th>\n",
       "      <td>2.324204e+01</td>\n",
       "      <td>1.519141e+01</td>\n",
       "      <td>1.244072e+01</td>\n",
       "      <td>1.093867e+01</td>\n",
       "    </tr>\n",
       "  </tbody>\n",
       "</table>\n",
       "</div>"
      ],
      "text/plain": [
       "            Factor1       Factor2       Factor3       Factor4\n",
       "count  2.764000e+03  2.764000e+03  2.764000e+03  2.764000e+03\n",
       "mean   9.044863e-08  2.532562e-08 -1.447178e-08 -2.170767e-08\n",
       "std    6.536558e+00  4.870924e+00  2.912282e+00  2.568366e+00\n",
       "min   -1.547531e+01 -1.452431e+01 -7.928900e+00 -8.329920e+00\n",
       "25%   -5.099490e+00 -3.473265e+00 -1.972415e+00 -1.725280e+00\n",
       "50%   -4.558100e-01 -2.075600e-01 -1.688400e-01 -6.886500e-02\n",
       "75%    4.603195e+00  3.230165e+00  1.746265e+00  1.585002e+00\n",
       "max    2.324204e+01  1.519141e+01  1.244072e+01  1.093867e+01"
      ]
     },
     "execution_count": 113,
     "metadata": {},
     "output_type": "execute_result"
    }
   ],
   "source": [
    "data = data.round(5)\n",
    "data.describe()"
   ]
  },
  {
   "cell_type": "code",
   "execution_count": 93,
   "id": "91a3d503-34f0-4a64-99c0-11daaed09a3d",
   "metadata": {},
   "outputs": [
    {
     "data": {
      "text/plain": [
       "array([[-0.78446454],\n",
       "       [ 0.78446454],\n",
       "       [ 1.17669681],\n",
       "       [-1.17669681]])"
      ]
     },
     "execution_count": 93,
     "metadata": {},
     "output_type": "execute_result"
    }
   ],
   "source": [
    "test4"
   ]
  },
  {
   "cell_type": "code",
   "execution_count": 80,
   "id": "2b7b5be9-6080-43c9-84f3-5179514b346f",
   "metadata": {},
   "outputs": [],
   "source": [
    "same_traits = [0, 2]\n",
    "diff_traits = [1, 3]"
   ]
  },
  {
   "cell_type": "code",
   "execution_count": 95,
   "id": "d77e02f8-34cf-459c-9692-e35542f9ab01",
   "metadata": {},
   "outputs": [],
   "source": [
    "test = [-2.678498, 5.816443, -3.505566, -0.007615]\n",
    "test2 = [0.087177, 0.925191, -1.526079, -3.750073]\n"
   ]
  },
  {
   "cell_type": "code",
   "execution_count": 61,
   "id": "5c759e75-02f5-436f-95a2-421e7f65ac59",
   "metadata": {},
   "outputs": [],
   "source": [
    "# Example: recommend top 3 matches for each user\n",
    "test = [-2.678498, 5.816443, -3.505566, -0.007615]\n",
    "\n",
    "\n",
    "recs = recommend(test, data, same_traits, diff_traits, top_k=3)"
   ]
  },
  {
   "cell_type": "code",
   "execution_count": 100,
   "id": "8d7fc7ac-c6a9-49d7-ba88-3a377c6e68a9",
   "metadata": {},
   "outputs": [
    {
     "data": {
      "text/plain": [
       "array([-1.09788112,  3.04265881,  0.44111017, ..., -1.57584742,\n",
       "       -0.20959295, -0.2375467 ])"
      ]
     },
     "execution_count": 100,
     "metadata": {},
     "output_type": "execute_result"
    }
   ],
   "source": [
    "np.array(data).flatten()"
   ]
  },
  {
   "cell_type": "raw",
   "id": "5a4fea0f-08ed-49b3-8469-5b39294ed05f",
   "metadata": {},
   "source": []
  },
  {
   "cell_type": "code",
   "execution_count": null,
   "id": "762c9854-0608-4b4b-89a8-5c2bf0e2b9aa",
   "metadata": {},
   "outputs": [],
   "source": []
  },
  {
   "cell_type": "code",
   "execution_count": null,
   "id": "a3c40879-e04d-4799-b690-2cd1943cb2fa",
   "metadata": {},
   "outputs": [],
   "source": []
  }
 ],
 "metadata": {
  "kernelspec": {
   "display_name": "lhl_env",
   "language": "python",
   "name": "lhl_env"
  },
  "language_info": {
   "codemirror_mode": {
    "name": "ipython",
    "version": 3
   },
   "file_extension": ".py",
   "mimetype": "text/x-python",
   "name": "python",
   "nbconvert_exporter": "python",
   "pygments_lexer": "ipython3",
   "version": "3.9.21"
  }
 },
 "nbformat": 4,
 "nbformat_minor": 5
}
