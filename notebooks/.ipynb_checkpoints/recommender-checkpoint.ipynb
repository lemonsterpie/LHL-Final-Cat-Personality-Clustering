{
 "cells": [
  {
   "cell_type": "code",
   "execution_count": 72,
   "id": "e199cec3-1391-42e2-95bf-3b872adaf445",
   "metadata": {},
   "outputs": [],
   "source": [
    "# Imports \n",
    "\n",
    "from sklearn.metrics import pairwise_distances\n",
    "import pandas as pd \n",
    "import numpy as np\n",
    "import os "
   ]
  },
  {
   "cell_type": "code",
   "execution_count": 73,
   "id": "38fa9b87-2d47-49cc-8c22-b922a05e876a",
   "metadata": {},
   "outputs": [],
   "source": [
    "data = pd.read_csv('../data/data_reduced.csv')\n",
    "raw_data = pd.read_csv('../data/data_notscaled.csv')\n",
    "traits = data[['Factor1', 'Factor2', 'Factor3', 'Factor4']]"
   ]
  },
  {
   "cell_type": "code",
   "execution_count": 70,
   "id": "0ff6f67b-1f4b-47f2-b2ec-2156f5a491d4",
   "metadata": {},
   "outputs": [],
   "source": [
    "import pickle\n",
    "\n",
    "with open('../objects/scaler.pkl','rb') as f:\n",
    "    sc = pickle.load(f)"
   ]
  },
  {
   "cell_type": "markdown",
   "id": "c6f56bcd-d212-4f06-9b3d-2d507665d581",
   "metadata": {},
   "source": [
    "I want to give the user the option to see recommended cats that are most or least like their own cat in each trait. For example, someone may want a cat that is similar to their current cat in terms of dominance and intelligence, but the opposite in terms of activity level. In order to do so I will define a custom distance. For each trait, the distance must be minimized if the user selected to see recommendations that are the most similar in that trait, and maximized if they wish to see the opposite. "
   ]
  },
  {
   "cell_type": "code",
   "execution_count": 74,
   "id": "bd930d5f-2397-40a5-ae04-b090bbc50252",
   "metadata": {},
   "outputs": [],
   "source": [
    "# Defining the maxmimun distance squared for each trait\n",
    "\n",
    "max_dists_sq = (traits.max() - traits.min()) ** 2"
   ]
  },
  {
   "cell_type": "code",
   "execution_count": 75,
   "id": "cac75bf8-1d8b-432d-8f78-8f8bf67ad58f",
   "metadata": {},
   "outputs": [],
   "source": [
    "def distance(user1, user2, same_traits=None, different_traits=None):\n",
    "\n",
    "    user1 = np.array(user1, dtype=float).flatten()\n",
    "    user2 = np.array(user2, dtype=float).flatten()\n",
    "    diff = user1 - user2 \n",
    "    dist = 0.0\n",
    "    n = len(user1)\n",
    "\n",
    "    # if no traits are specified to be similar or different, the default is to recommend based on similarities in all traits \n",
    "    if same_traits is None and different_traits is None:\n",
    "        same_traits = range(n)\n",
    "        different_traits = []\n",
    "\n",
    "    elif same_traits is None:\n",
    "        same_traits = [i for i in range(n) if i not in different_traits]\n",
    "        \n",
    "    elif different_traits is None:\n",
    "        different_traits = [i for i in range(n) if i not in same_traits]\n",
    "        \n",
    "    for i in same_traits:\n",
    "        dist += diff[i] ** 2\n",
    "\n",
    "    for i in different_traits:\n",
    "        max_val = max_dists_sq.iloc[i]\n",
    "        dist += (max_val - diff[i] ** 2)\n",
    "\n",
    "    return dist"
   ]
  },
  {
   "cell_type": "code",
   "execution_count": 76,
   "id": "a227bddf-ee37-4d1c-a2c1-fa3b0b87a6b2",
   "metadata": {},
   "outputs": [],
   "source": [
    "def recommend(new_user, data, same_traits=None, different_traits=None, n_recs=10, factors=None):\n",
    "\n",
    "    new_user = np.array(new_user, dtype=float)\n",
    "    distances = []\n",
    "    if factors is None:\n",
    "        factors=data.columns.tolist()\n",
    "\n",
    "    for i, row in traits.iterrows(): \n",
    "        user2 = np.array(row[factors], dtype=float)\n",
    "\n",
    "        d = distance(new_user, user2, same_traits, different_traits)\n",
    "        distances.append((i, d))\n",
    "    \n",
    "    # Sort by ascending distance (best matches first)\n",
    "    distances.sort(key=lambda x: x[1])\n",
    "    \n",
    "    return distances[:n_recs]\n",
    "    "
   ]
  },
  {
   "cell_type": "markdown",
   "id": "ac5db4ac-cb71-4e64-bb20-ad849b8ced04",
   "metadata": {},
   "source": [
    "#### Testing the recommender"
   ]
  },
  {
   "cell_type": "code",
   "execution_count": 77,
   "id": "135fa6d9-8ef1-4192-af9a-637775081a34",
   "metadata": {},
   "outputs": [
    {
     "data": {
      "text/html": [
       "<div>\n",
       "<style scoped>\n",
       "    .dataframe tbody tr th:only-of-type {\n",
       "        vertical-align: middle;\n",
       "    }\n",
       "\n",
       "    .dataframe tbody tr th {\n",
       "        vertical-align: top;\n",
       "    }\n",
       "\n",
       "    .dataframe thead th {\n",
       "        text-align: right;\n",
       "    }\n",
       "</style>\n",
       "<table border=\"1\" class=\"dataframe\">\n",
       "  <thead>\n",
       "    <tr style=\"text-align: right;\">\n",
       "      <th></th>\n",
       "      <th>Factor1</th>\n",
       "      <th>Factor2</th>\n",
       "      <th>Factor3</th>\n",
       "      <th>Factor4</th>\n",
       "      <th>Cat_sex</th>\n",
       "    </tr>\n",
       "  </thead>\n",
       "  <tbody>\n",
       "    <tr>\n",
       "      <th>10</th>\n",
       "      <td>-11.242259</td>\n",
       "      <td>32.644139</td>\n",
       "      <td>-22.569194</td>\n",
       "      <td>9.048222</td>\n",
       "      <td>1</td>\n",
       "    </tr>\n",
       "  </tbody>\n",
       "</table>\n",
       "</div>"
      ],
      "text/plain": [
       "      Factor1    Factor2    Factor3   Factor4  Cat_sex\n",
       "10 -11.242259  32.644139 -22.569194  9.048222        1"
      ]
     },
     "execution_count": 77,
     "metadata": {},
     "output_type": "execute_result"
    }
   ],
   "source": [
    "data[10:11]"
   ]
  },
  {
   "cell_type": "code",
   "execution_count": 60,
   "id": "968cd3cb-07b9-4752-9dac-86a9750244eb",
   "metadata": {},
   "outputs": [],
   "source": [
    "test1 = [5.658829, -0.810108, 5.02464, 3.281885]\n",
    "test2 = [0.087177, 0.925191, -1.526079, -3.750073]\n",
    "\n",
    "same_traits = [0, 2]\n",
    "diff_traits = [1, 3]"
   ]
  },
  {
   "cell_type": "code",
   "execution_count": 78,
   "id": "c8d3b7a8-405d-4aa2-b1cf-fc1eb2b886b7",
   "metadata": {},
   "outputs": [],
   "source": [
    "first = recommend(test1, traits)"
   ]
  },
  {
   "cell_type": "code",
   "execution_count": 79,
   "id": "fd5fc161-65ed-490a-8864-f369c595fe33",
   "metadata": {},
   "outputs": [],
   "source": [
    "df1 = pd.DataFrame(data=first)"
   ]
  },
  {
   "cell_type": "code",
   "execution_count": 80,
   "id": "071ddc39-7ac0-4aa6-9022-4c2162ff8f2c",
   "metadata": {},
   "outputs": [
    {
     "data": {
      "text/html": [
       "<div>\n",
       "<style scoped>\n",
       "    .dataframe tbody tr th:only-of-type {\n",
       "        vertical-align: middle;\n",
       "    }\n",
       "\n",
       "    .dataframe tbody tr th {\n",
       "        vertical-align: top;\n",
       "    }\n",
       "\n",
       "    .dataframe thead th {\n",
       "        text-align: right;\n",
       "    }\n",
       "</style>\n",
       "<table border=\"1\" class=\"dataframe\">\n",
       "  <thead>\n",
       "    <tr style=\"text-align: right;\">\n",
       "      <th></th>\n",
       "      <th>Factor1</th>\n",
       "      <th>Factor2</th>\n",
       "      <th>Factor3</th>\n",
       "      <th>Factor4</th>\n",
       "      <th>Cat_sex</th>\n",
       "    </tr>\n",
       "  </thead>\n",
       "  <tbody>\n",
       "    <tr>\n",
       "      <th>1208</th>\n",
       "      <td>-4.006670</td>\n",
       "      <td>-1.179039</td>\n",
       "      <td>-6.984522</td>\n",
       "      <td>11.466535</td>\n",
       "      <td>0</td>\n",
       "    </tr>\n",
       "    <tr>\n",
       "      <th>1136</th>\n",
       "      <td>0.426436</td>\n",
       "      <td>11.573072</td>\n",
       "      <td>-9.481515</td>\n",
       "      <td>15.719044</td>\n",
       "      <td>0</td>\n",
       "    </tr>\n",
       "    <tr>\n",
       "      <th>2504</th>\n",
       "      <td>8.955519</td>\n",
       "      <td>18.409817</td>\n",
       "      <td>-13.452492</td>\n",
       "      <td>-4.661919</td>\n",
       "      <td>1</td>\n",
       "    </tr>\n",
       "    <tr>\n",
       "      <th>2347</th>\n",
       "      <td>-2.774636</td>\n",
       "      <td>2.486532</td>\n",
       "      <td>-20.042275</td>\n",
       "      <td>-5.836600</td>\n",
       "      <td>0</td>\n",
       "    </tr>\n",
       "    <tr>\n",
       "      <th>985</th>\n",
       "      <td>16.824174</td>\n",
       "      <td>9.634805</td>\n",
       "      <td>-18.140563</td>\n",
       "      <td>-2.132316</td>\n",
       "      <td>1</td>\n",
       "    </tr>\n",
       "    <tr>\n",
       "      <th>512</th>\n",
       "      <td>-7.951109</td>\n",
       "      <td>5.371148</td>\n",
       "      <td>-17.381144</td>\n",
       "      <td>-7.098820</td>\n",
       "      <td>1</td>\n",
       "    </tr>\n",
       "    <tr>\n",
       "      <th>311</th>\n",
       "      <td>-1.541350</td>\n",
       "      <td>4.688077</td>\n",
       "      <td>-22.258119</td>\n",
       "      <td>-3.638317</td>\n",
       "      <td>0</td>\n",
       "    </tr>\n",
       "    <tr>\n",
       "      <th>305</th>\n",
       "      <td>-1.956988</td>\n",
       "      <td>23.379172</td>\n",
       "      <td>-10.752929</td>\n",
       "      <td>3.514511</td>\n",
       "      <td>1</td>\n",
       "    </tr>\n",
       "    <tr>\n",
       "      <th>2466</th>\n",
       "      <td>-0.590065</td>\n",
       "      <td>13.012312</td>\n",
       "      <td>-20.410536</td>\n",
       "      <td>-2.731278</td>\n",
       "      <td>1</td>\n",
       "    </tr>\n",
       "    <tr>\n",
       "      <th>1348</th>\n",
       "      <td>-17.102112</td>\n",
       "      <td>7.399967</td>\n",
       "      <td>-13.200233</td>\n",
       "      <td>3.695606</td>\n",
       "      <td>0</td>\n",
       "    </tr>\n",
       "  </tbody>\n",
       "</table>\n",
       "</div>"
      ],
      "text/plain": [
       "        Factor1    Factor2    Factor3    Factor4  Cat_sex\n",
       "1208  -4.006670  -1.179039  -6.984522  11.466535        0\n",
       "1136   0.426436  11.573072  -9.481515  15.719044        0\n",
       "2504   8.955519  18.409817 -13.452492  -4.661919        1\n",
       "2347  -2.774636   2.486532 -20.042275  -5.836600        0\n",
       "985   16.824174   9.634805 -18.140563  -2.132316        1\n",
       "512   -7.951109   5.371148 -17.381144  -7.098820        1\n",
       "311   -1.541350   4.688077 -22.258119  -3.638317        0\n",
       "305   -1.956988  23.379172 -10.752929   3.514511        1\n",
       "2466  -0.590065  13.012312 -20.410536  -2.731278        1\n",
       "1348 -17.102112   7.399967 -13.200233   3.695606        0"
      ]
     },
     "execution_count": 80,
     "metadata": {},
     "output_type": "execute_result"
    }
   ],
   "source": [
    "data.loc[df1[0]]"
   ]
  },
  {
   "cell_type": "code",
   "execution_count": 71,
   "id": "7adfe37b-34c6-49c4-a2de-c90225b25aef",
   "metadata": {},
   "outputs": [
    {
     "name": "stderr",
     "output_type": "stream",
     "text": [
      "C:\\Users\\sherr\\anaconda3\\envs\\lhl_env\\lib\\site-packages\\sklearn\\base.py:493: UserWarning: X does not have valid feature names, but StandardScaler was fitted with feature names\n",
      "  warnings.warn(\n"
     ]
    },
    {
     "ename": "ValueError",
     "evalue": "X has 4 features, but StandardScaler is expecting 51 features as input.",
     "output_type": "error",
     "traceback": [
      "\u001b[1;31m---------------------------------------------------------------------------\u001b[0m",
      "\u001b[1;31mValueError\u001b[0m                                Traceback (most recent call last)",
      "Cell \u001b[1;32mIn[71], line 6\u001b[0m\n\u001b[0;32m      3\u001b[0m test2 \u001b[38;5;241m=\u001b[39m np\u001b[38;5;241m.\u001b[39marray([\u001b[38;5;241m2\u001b[39m, \u001b[38;5;241m6\u001b[39m, \u001b[38;5;241m7\u001b[39m, \u001b[38;5;241m1\u001b[39m])\n\u001b[0;32m      5\u001b[0m scaler \u001b[38;5;241m=\u001b[39m StandardScaler()\n\u001b[1;32m----> 6\u001b[0m test3 \u001b[38;5;241m=\u001b[39m \u001b[43msc\u001b[49m\u001b[38;5;241;43m.\u001b[39;49m\u001b[43mtransform\u001b[49m\u001b[43m(\u001b[49m\u001b[43mtest2\u001b[49m\u001b[38;5;241;43m.\u001b[39;49m\u001b[43mreshape\u001b[49m\u001b[43m(\u001b[49m\u001b[38;5;241;43m1\u001b[39;49m\u001b[43m,\u001b[49m\u001b[43m \u001b[49m\u001b[38;5;241;43m-\u001b[39;49m\u001b[38;5;241;43m1\u001b[39;49m\u001b[43m)\u001b[49m\u001b[43m)\u001b[49m\n",
      "File \u001b[1;32m~\\anaconda3\\envs\\lhl_env\\lib\\site-packages\\sklearn\\utils\\_set_output.py:316\u001b[0m, in \u001b[0;36m_wrap_method_output.<locals>.wrapped\u001b[1;34m(self, X, *args, **kwargs)\u001b[0m\n\u001b[0;32m    314\u001b[0m \u001b[38;5;129m@wraps\u001b[39m(f)\n\u001b[0;32m    315\u001b[0m \u001b[38;5;28;01mdef\u001b[39;00m\u001b[38;5;250m \u001b[39m\u001b[38;5;21mwrapped\u001b[39m(\u001b[38;5;28mself\u001b[39m, X, \u001b[38;5;241m*\u001b[39margs, \u001b[38;5;241m*\u001b[39m\u001b[38;5;241m*\u001b[39mkwargs):\n\u001b[1;32m--> 316\u001b[0m     data_to_wrap \u001b[38;5;241m=\u001b[39m f(\u001b[38;5;28mself\u001b[39m, X, \u001b[38;5;241m*\u001b[39margs, \u001b[38;5;241m*\u001b[39m\u001b[38;5;241m*\u001b[39mkwargs)\n\u001b[0;32m    317\u001b[0m     \u001b[38;5;28;01mif\u001b[39;00m \u001b[38;5;28misinstance\u001b[39m(data_to_wrap, \u001b[38;5;28mtuple\u001b[39m):\n\u001b[0;32m    318\u001b[0m         \u001b[38;5;66;03m# only wrap the first output for cross decomposition\u001b[39;00m\n\u001b[0;32m    319\u001b[0m         return_tuple \u001b[38;5;241m=\u001b[39m (\n\u001b[0;32m    320\u001b[0m             _wrap_data_with_container(method, data_to_wrap[\u001b[38;5;241m0\u001b[39m], X, \u001b[38;5;28mself\u001b[39m),\n\u001b[0;32m    321\u001b[0m             \u001b[38;5;241m*\u001b[39mdata_to_wrap[\u001b[38;5;241m1\u001b[39m:],\n\u001b[0;32m    322\u001b[0m         )\n",
      "File \u001b[1;32m~\\anaconda3\\envs\\lhl_env\\lib\\site-packages\\sklearn\\preprocessing\\_data.py:1045\u001b[0m, in \u001b[0;36mStandardScaler.transform\u001b[1;34m(self, X, copy)\u001b[0m\n\u001b[0;32m   1042\u001b[0m check_is_fitted(\u001b[38;5;28mself\u001b[39m)\n\u001b[0;32m   1044\u001b[0m copy \u001b[38;5;241m=\u001b[39m copy \u001b[38;5;28;01mif\u001b[39;00m copy \u001b[38;5;129;01mis\u001b[39;00m \u001b[38;5;129;01mnot\u001b[39;00m \u001b[38;5;28;01mNone\u001b[39;00m \u001b[38;5;28;01melse\u001b[39;00m \u001b[38;5;28mself\u001b[39m\u001b[38;5;241m.\u001b[39mcopy\n\u001b[1;32m-> 1045\u001b[0m X \u001b[38;5;241m=\u001b[39m \u001b[38;5;28;43mself\u001b[39;49m\u001b[38;5;241;43m.\u001b[39;49m\u001b[43m_validate_data\u001b[49m\u001b[43m(\u001b[49m\n\u001b[0;32m   1046\u001b[0m \u001b[43m    \u001b[49m\u001b[43mX\u001b[49m\u001b[43m,\u001b[49m\n\u001b[0;32m   1047\u001b[0m \u001b[43m    \u001b[49m\u001b[43mreset\u001b[49m\u001b[38;5;241;43m=\u001b[39;49m\u001b[38;5;28;43;01mFalse\u001b[39;49;00m\u001b[43m,\u001b[49m\n\u001b[0;32m   1048\u001b[0m \u001b[43m    \u001b[49m\u001b[43maccept_sparse\u001b[49m\u001b[38;5;241;43m=\u001b[39;49m\u001b[38;5;124;43m\"\u001b[39;49m\u001b[38;5;124;43mcsr\u001b[39;49m\u001b[38;5;124;43m\"\u001b[39;49m\u001b[43m,\u001b[49m\n\u001b[0;32m   1049\u001b[0m \u001b[43m    \u001b[49m\u001b[43mcopy\u001b[49m\u001b[38;5;241;43m=\u001b[39;49m\u001b[43mcopy\u001b[49m\u001b[43m,\u001b[49m\n\u001b[0;32m   1050\u001b[0m \u001b[43m    \u001b[49m\u001b[43mdtype\u001b[49m\u001b[38;5;241;43m=\u001b[39;49m\u001b[43mFLOAT_DTYPES\u001b[49m\u001b[43m,\u001b[49m\n\u001b[0;32m   1051\u001b[0m \u001b[43m    \u001b[49m\u001b[43mforce_writeable\u001b[49m\u001b[38;5;241;43m=\u001b[39;49m\u001b[38;5;28;43;01mTrue\u001b[39;49;00m\u001b[43m,\u001b[49m\n\u001b[0;32m   1052\u001b[0m \u001b[43m    \u001b[49m\u001b[43mforce_all_finite\u001b[49m\u001b[38;5;241;43m=\u001b[39;49m\u001b[38;5;124;43m\"\u001b[39;49m\u001b[38;5;124;43mallow-nan\u001b[39;49m\u001b[38;5;124;43m\"\u001b[39;49m\u001b[43m,\u001b[49m\n\u001b[0;32m   1053\u001b[0m \u001b[43m\u001b[49m\u001b[43m)\u001b[49m\n\u001b[0;32m   1055\u001b[0m \u001b[38;5;28;01mif\u001b[39;00m sparse\u001b[38;5;241m.\u001b[39missparse(X):\n\u001b[0;32m   1056\u001b[0m     \u001b[38;5;28;01mif\u001b[39;00m \u001b[38;5;28mself\u001b[39m\u001b[38;5;241m.\u001b[39mwith_mean:\n",
      "File \u001b[1;32m~\\anaconda3\\envs\\lhl_env\\lib\\site-packages\\sklearn\\base.py:654\u001b[0m, in \u001b[0;36mBaseEstimator._validate_data\u001b[1;34m(self, X, y, reset, validate_separately, cast_to_ndarray, **check_params)\u001b[0m\n\u001b[0;32m    651\u001b[0m     out \u001b[38;5;241m=\u001b[39m X, y\n\u001b[0;32m    653\u001b[0m \u001b[38;5;28;01mif\u001b[39;00m \u001b[38;5;129;01mnot\u001b[39;00m no_val_X \u001b[38;5;129;01mand\u001b[39;00m check_params\u001b[38;5;241m.\u001b[39mget(\u001b[38;5;124m\"\u001b[39m\u001b[38;5;124mensure_2d\u001b[39m\u001b[38;5;124m\"\u001b[39m, \u001b[38;5;28;01mTrue\u001b[39;00m):\n\u001b[1;32m--> 654\u001b[0m     \u001b[38;5;28;43mself\u001b[39;49m\u001b[38;5;241;43m.\u001b[39;49m\u001b[43m_check_n_features\u001b[49m\u001b[43m(\u001b[49m\u001b[43mX\u001b[49m\u001b[43m,\u001b[49m\u001b[43m \u001b[49m\u001b[43mreset\u001b[49m\u001b[38;5;241;43m=\u001b[39;49m\u001b[43mreset\u001b[49m\u001b[43m)\u001b[49m\n\u001b[0;32m    656\u001b[0m \u001b[38;5;28;01mreturn\u001b[39;00m out\n",
      "File \u001b[1;32m~\\anaconda3\\envs\\lhl_env\\lib\\site-packages\\sklearn\\base.py:443\u001b[0m, in \u001b[0;36mBaseEstimator._check_n_features\u001b[1;34m(self, X, reset)\u001b[0m\n\u001b[0;32m    440\u001b[0m     \u001b[38;5;28;01mreturn\u001b[39;00m\n\u001b[0;32m    442\u001b[0m \u001b[38;5;28;01mif\u001b[39;00m n_features \u001b[38;5;241m!=\u001b[39m \u001b[38;5;28mself\u001b[39m\u001b[38;5;241m.\u001b[39mn_features_in_:\n\u001b[1;32m--> 443\u001b[0m     \u001b[38;5;28;01mraise\u001b[39;00m \u001b[38;5;167;01mValueError\u001b[39;00m(\n\u001b[0;32m    444\u001b[0m         \u001b[38;5;124mf\u001b[39m\u001b[38;5;124m\"\u001b[39m\u001b[38;5;124mX has \u001b[39m\u001b[38;5;132;01m{\u001b[39;00mn_features\u001b[38;5;132;01m}\u001b[39;00m\u001b[38;5;124m features, but \u001b[39m\u001b[38;5;132;01m{\u001b[39;00m\u001b[38;5;28mself\u001b[39m\u001b[38;5;241m.\u001b[39m\u001b[38;5;18m__class__\u001b[39m\u001b[38;5;241m.\u001b[39m\u001b[38;5;18m__name__\u001b[39m\u001b[38;5;132;01m}\u001b[39;00m\u001b[38;5;124m \u001b[39m\u001b[38;5;124m\"\u001b[39m\n\u001b[0;32m    445\u001b[0m         \u001b[38;5;124mf\u001b[39m\u001b[38;5;124m\"\u001b[39m\u001b[38;5;124mis expecting \u001b[39m\u001b[38;5;132;01m{\u001b[39;00m\u001b[38;5;28mself\u001b[39m\u001b[38;5;241m.\u001b[39mn_features_in_\u001b[38;5;132;01m}\u001b[39;00m\u001b[38;5;124m features as input.\u001b[39m\u001b[38;5;124m\"\u001b[39m\n\u001b[0;32m    446\u001b[0m     )\n",
      "\u001b[1;31mValueError\u001b[0m: X has 4 features, but StandardScaler is expecting 51 features as input."
     ]
    }
   ],
   "source": [
    "from sklearn.preprocessing import StandardScaler\n",
    "\n",
    "test2 = np.array([2, 6, 7, 1])\n",
    "\n",
    "scaler = StandardScaler()\n",
    "test3 = sc.transform(test2.reshape(1, -1))"
   ]
  },
  {
   "cell_type": "code",
   "execution_count": 63,
   "id": "5804a8aa-2150-44a7-827e-a6a19f3c2987",
   "metadata": {},
   "outputs": [],
   "source": [
    "second = recommend(test3, traits, same_traits=same_traits, different_traits=diff_traits)"
   ]
  },
  {
   "cell_type": "code",
   "execution_count": 64,
   "id": "fcab717d-fd10-432a-be04-5ce0ffcee1a0",
   "metadata": {},
   "outputs": [],
   "source": [
    "df2 = pd.DataFrame(data=second)"
   ]
  },
  {
   "cell_type": "code",
   "execution_count": 66,
   "id": "bc6456c3-712f-4f9e-aa17-ef69cfe9e98f",
   "metadata": {},
   "outputs": [
    {
     "data": {
      "text/plain": [
       "array([[-0.78446454],\n",
       "       [ 0.78446454],\n",
       "       [ 1.17669681],\n",
       "       [-1.17669681]])"
      ]
     },
     "execution_count": 66,
     "metadata": {},
     "output_type": "execute_result"
    }
   ],
   "source": [
    "test3"
   ]
  },
  {
   "cell_type": "code",
   "execution_count": 65,
   "id": "a059b29b-e09d-42b1-9b88-182ba4033e04",
   "metadata": {},
   "outputs": [
    {
     "data": {
      "text/html": [
       "<div>\n",
       "<style scoped>\n",
       "    .dataframe tbody tr th:only-of-type {\n",
       "        vertical-align: middle;\n",
       "    }\n",
       "\n",
       "    .dataframe tbody tr th {\n",
       "        vertical-align: top;\n",
       "    }\n",
       "\n",
       "    .dataframe thead th {\n",
       "        text-align: right;\n",
       "    }\n",
       "</style>\n",
       "<table border=\"1\" class=\"dataframe\">\n",
       "  <thead>\n",
       "    <tr style=\"text-align: right;\">\n",
       "      <th></th>\n",
       "      <th>Factor1</th>\n",
       "      <th>Factor2</th>\n",
       "      <th>Factor3</th>\n",
       "      <th>Factor4</th>\n",
       "      <th>Cat_sex</th>\n",
       "    </tr>\n",
       "  </thead>\n",
       "  <tbody>\n",
       "    <tr>\n",
       "      <th>258</th>\n",
       "      <td>-0.647627</td>\n",
       "      <td>13.850228</td>\n",
       "      <td>-2.908044</td>\n",
       "      <td>4.635665</td>\n",
       "      <td>1</td>\n",
       "    </tr>\n",
       "    <tr>\n",
       "      <th>2341</th>\n",
       "      <td>-0.794489</td>\n",
       "      <td>-13.064053</td>\n",
       "      <td>7.194531</td>\n",
       "      <td>4.063943</td>\n",
       "      <td>0</td>\n",
       "    </tr>\n",
       "    <tr>\n",
       "      <th>2444</th>\n",
       "      <td>2.816758</td>\n",
       "      <td>15.191407</td>\n",
       "      <td>-2.651132</td>\n",
       "      <td>-1.414312</td>\n",
       "      <td>1</td>\n",
       "    </tr>\n",
       "    <tr>\n",
       "      <th>2364</th>\n",
       "      <td>1.224524</td>\n",
       "      <td>13.532865</td>\n",
       "      <td>5.232263</td>\n",
       "      <td>4.945490</td>\n",
       "      <td>1</td>\n",
       "    </tr>\n",
       "    <tr>\n",
       "      <th>1865</th>\n",
       "      <td>-1.665936</td>\n",
       "      <td>14.189521</td>\n",
       "      <td>-1.950845</td>\n",
       "      <td>0.808019</td>\n",
       "      <td>1</td>\n",
       "    </tr>\n",
       "    <tr>\n",
       "      <th>507</th>\n",
       "      <td>-2.202655</td>\n",
       "      <td>-12.157959</td>\n",
       "      <td>1.268655</td>\n",
       "      <td>1.269010</td>\n",
       "      <td>1</td>\n",
       "    </tr>\n",
       "    <tr>\n",
       "      <th>498</th>\n",
       "      <td>-2.144400</td>\n",
       "      <td>13.254115</td>\n",
       "      <td>-1.464134</td>\n",
       "      <td>3.458568</td>\n",
       "      <td>0</td>\n",
       "    </tr>\n",
       "    <tr>\n",
       "      <th>996</th>\n",
       "      <td>0.950734</td>\n",
       "      <td>11.538597</td>\n",
       "      <td>0.688967</td>\n",
       "      <td>6.154217</td>\n",
       "      <td>1</td>\n",
       "    </tr>\n",
       "    <tr>\n",
       "      <th>958</th>\n",
       "      <td>-2.466524</td>\n",
       "      <td>13.351979</td>\n",
       "      <td>-1.674624</td>\n",
       "      <td>2.552169</td>\n",
       "      <td>0</td>\n",
       "    </tr>\n",
       "    <tr>\n",
       "      <th>601</th>\n",
       "      <td>-2.500890</td>\n",
       "      <td>-11.956050</td>\n",
       "      <td>0.673000</td>\n",
       "      <td>-1.484812</td>\n",
       "      <td>0</td>\n",
       "    </tr>\n",
       "  </tbody>\n",
       "</table>\n",
       "</div>"
      ],
      "text/plain": [
       "       Factor1    Factor2   Factor3   Factor4  Cat_sex\n",
       "258  -0.647627  13.850228 -2.908044  4.635665        1\n",
       "2341 -0.794489 -13.064053  7.194531  4.063943        0\n",
       "2444  2.816758  15.191407 -2.651132 -1.414312        1\n",
       "2364  1.224524  13.532865  5.232263  4.945490        1\n",
       "1865 -1.665936  14.189521 -1.950845  0.808019        1\n",
       "507  -2.202655 -12.157959  1.268655  1.269010        1\n",
       "498  -2.144400  13.254115 -1.464134  3.458568        0\n",
       "996   0.950734  11.538597  0.688967  6.154217        1\n",
       "958  -2.466524  13.351979 -1.674624  2.552169        0\n",
       "601  -2.500890 -11.956050  0.673000 -1.484812        0"
      ]
     },
     "execution_count": 65,
     "metadata": {},
     "output_type": "execute_result"
    }
   ],
   "source": [
    "data.loc[df2[0]]"
   ]
  },
  {
   "cell_type": "code",
   "execution_count": 103,
   "id": "7ea22607-c6f5-4319-83b3-01ed21d1e12a",
   "metadata": {},
   "outputs": [
    {
     "data": {
      "text/plain": [
       "[(1377, 0.5653610501056178),\n",
       " (1742, 0.6253745217185432),\n",
       " (1733, 0.6746091782413869),\n",
       " (2370, 1.049443787696961),\n",
       " (1535, 1.5042388336411647),\n",
       " (2199, 1.8389207553460123),\n",
       " (1783, 2.2837995509971996),\n",
       " (1056, 2.365998475544991),\n",
       " (478, 2.735586405991848),\n",
       " (1650, 3.021892567706973)]"
      ]
     },
     "execution_count": 103,
     "metadata": {},
     "output_type": "execute_result"
    }
   ],
   "source": [
    "recommend(test4, data)"
   ]
  },
  {
   "cell_type": "code",
   "execution_count": 105,
   "id": "8702e20a-36dc-402c-b1ae-274ef42a3d7b",
   "metadata": {},
   "outputs": [
    {
     "data": {
      "text/plain": [
       "array([[-0.78446454],\n",
       "       [ 0.78446454],\n",
       "       [ 1.17669681],\n",
       "       [-1.17669681]])"
      ]
     },
     "execution_count": 105,
     "metadata": {},
     "output_type": "execute_result"
    }
   ],
   "source": [
    "test4"
   ]
  },
  {
   "cell_type": "code",
   "execution_count": 113,
   "id": "cb51647b-3b25-4392-b9fc-b0c9e3fb3bbf",
   "metadata": {},
   "outputs": [
    {
     "data": {
      "text/html": [
       "<div>\n",
       "<style scoped>\n",
       "    .dataframe tbody tr th:only-of-type {\n",
       "        vertical-align: middle;\n",
       "    }\n",
       "\n",
       "    .dataframe tbody tr th {\n",
       "        vertical-align: top;\n",
       "    }\n",
       "\n",
       "    .dataframe thead th {\n",
       "        text-align: right;\n",
       "    }\n",
       "</style>\n",
       "<table border=\"1\" class=\"dataframe\">\n",
       "  <thead>\n",
       "    <tr style=\"text-align: right;\">\n",
       "      <th></th>\n",
       "      <th>Factor1</th>\n",
       "      <th>Factor2</th>\n",
       "      <th>Factor3</th>\n",
       "      <th>Factor4</th>\n",
       "    </tr>\n",
       "  </thead>\n",
       "  <tbody>\n",
       "    <tr>\n",
       "      <th>count</th>\n",
       "      <td>2.764000e+03</td>\n",
       "      <td>2.764000e+03</td>\n",
       "      <td>2.764000e+03</td>\n",
       "      <td>2.764000e+03</td>\n",
       "    </tr>\n",
       "    <tr>\n",
       "      <th>mean</th>\n",
       "      <td>9.044863e-08</td>\n",
       "      <td>2.532562e-08</td>\n",
       "      <td>-1.447178e-08</td>\n",
       "      <td>-2.170767e-08</td>\n",
       "    </tr>\n",
       "    <tr>\n",
       "      <th>std</th>\n",
       "      <td>6.536558e+00</td>\n",
       "      <td>4.870924e+00</td>\n",
       "      <td>2.912282e+00</td>\n",
       "      <td>2.568366e+00</td>\n",
       "    </tr>\n",
       "    <tr>\n",
       "      <th>min</th>\n",
       "      <td>-1.547531e+01</td>\n",
       "      <td>-1.452431e+01</td>\n",
       "      <td>-7.928900e+00</td>\n",
       "      <td>-8.329920e+00</td>\n",
       "    </tr>\n",
       "    <tr>\n",
       "      <th>25%</th>\n",
       "      <td>-5.099490e+00</td>\n",
       "      <td>-3.473265e+00</td>\n",
       "      <td>-1.972415e+00</td>\n",
       "      <td>-1.725280e+00</td>\n",
       "    </tr>\n",
       "    <tr>\n",
       "      <th>50%</th>\n",
       "      <td>-4.558100e-01</td>\n",
       "      <td>-2.075600e-01</td>\n",
       "      <td>-1.688400e-01</td>\n",
       "      <td>-6.886500e-02</td>\n",
       "    </tr>\n",
       "    <tr>\n",
       "      <th>75%</th>\n",
       "      <td>4.603195e+00</td>\n",
       "      <td>3.230165e+00</td>\n",
       "      <td>1.746265e+00</td>\n",
       "      <td>1.585002e+00</td>\n",
       "    </tr>\n",
       "    <tr>\n",
       "      <th>max</th>\n",
       "      <td>2.324204e+01</td>\n",
       "      <td>1.519141e+01</td>\n",
       "      <td>1.244072e+01</td>\n",
       "      <td>1.093867e+01</td>\n",
       "    </tr>\n",
       "  </tbody>\n",
       "</table>\n",
       "</div>"
      ],
      "text/plain": [
       "            Factor1       Factor2       Factor3       Factor4\n",
       "count  2.764000e+03  2.764000e+03  2.764000e+03  2.764000e+03\n",
       "mean   9.044863e-08  2.532562e-08 -1.447178e-08 -2.170767e-08\n",
       "std    6.536558e+00  4.870924e+00  2.912282e+00  2.568366e+00\n",
       "min   -1.547531e+01 -1.452431e+01 -7.928900e+00 -8.329920e+00\n",
       "25%   -5.099490e+00 -3.473265e+00 -1.972415e+00 -1.725280e+00\n",
       "50%   -4.558100e-01 -2.075600e-01 -1.688400e-01 -6.886500e-02\n",
       "75%    4.603195e+00  3.230165e+00  1.746265e+00  1.585002e+00\n",
       "max    2.324204e+01  1.519141e+01  1.244072e+01  1.093867e+01"
      ]
     },
     "execution_count": 113,
     "metadata": {},
     "output_type": "execute_result"
    }
   ],
   "source": [
    "data = data.round(5)\n",
    "data.describe()"
   ]
  },
  {
   "cell_type": "code",
   "execution_count": 93,
   "id": "91a3d503-34f0-4a64-99c0-11daaed09a3d",
   "metadata": {},
   "outputs": [
    {
     "data": {
      "text/plain": [
       "array([[-0.78446454],\n",
       "       [ 0.78446454],\n",
       "       [ 1.17669681],\n",
       "       [-1.17669681]])"
      ]
     },
     "execution_count": 93,
     "metadata": {},
     "output_type": "execute_result"
    }
   ],
   "source": [
    "test4"
   ]
  },
  {
   "cell_type": "code",
   "execution_count": 11,
   "id": "2b7b5be9-6080-43c9-84f3-5179514b346f",
   "metadata": {},
   "outputs": [],
   "source": []
  },
  {
   "cell_type": "code",
   "execution_count": 95,
   "id": "d77e02f8-34cf-459c-9692-e35542f9ab01",
   "metadata": {},
   "outputs": [],
   "source": []
  },
  {
   "cell_type": "code",
   "execution_count": 26,
   "id": "5c759e75-02f5-436f-95a2-421e7f65ac59",
   "metadata": {},
   "outputs": [
    {
     "ename": "ValueError",
     "evalue": "operands could not be broadcast together with shapes (4,) (5,) ",
     "output_type": "error",
     "traceback": [
      "\u001b[1;31m---------------------------------------------------------------------------\u001b[0m",
      "\u001b[1;31mValueError\u001b[0m                                Traceback (most recent call last)",
      "Cell \u001b[1;32mIn[26], line 4\u001b[0m\n\u001b[0;32m      1\u001b[0m \u001b[38;5;66;03m# Example: recommend top 3 matches for each user\u001b[39;00m\n\u001b[0;32m      2\u001b[0m test \u001b[38;5;241m=\u001b[39m [\u001b[38;5;241m-\u001b[39m\u001b[38;5;241m2.678498\u001b[39m, \u001b[38;5;241m5.816443\u001b[39m, \u001b[38;5;241m-\u001b[39m\u001b[38;5;241m3.505566\u001b[39m, \u001b[38;5;241m-\u001b[39m\u001b[38;5;241m0.007615\u001b[39m]\n\u001b[1;32m----> 4\u001b[0m \u001b[43mrecommend\u001b[49m\u001b[43m(\u001b[49m\u001b[43mtest\u001b[49m\u001b[43m,\u001b[49m\u001b[43m \u001b[49m\u001b[43mdata\u001b[49m\u001b[43m,\u001b[49m\u001b[43m \u001b[49m\u001b[43msame_traits\u001b[49m\u001b[43m,\u001b[49m\u001b[43m \u001b[49m\u001b[43mdiff_traits\u001b[49m\u001b[43m)\u001b[49m\n",
      "Cell \u001b[1;32mIn[22], line 11\u001b[0m, in \u001b[0;36mrecommend\u001b[1;34m(new_user, data, same_traits, different_traits, n_recs, factors)\u001b[0m\n\u001b[0;32m      8\u001b[0m \u001b[38;5;28;01mfor\u001b[39;00m i, row \u001b[38;5;129;01min\u001b[39;00m data\u001b[38;5;241m.\u001b[39miterrows(): \n\u001b[0;32m      9\u001b[0m     user2 \u001b[38;5;241m=\u001b[39m np\u001b[38;5;241m.\u001b[39marray(row[factors], dtype\u001b[38;5;241m=\u001b[39m\u001b[38;5;28mfloat\u001b[39m)\n\u001b[1;32m---> 11\u001b[0m     d \u001b[38;5;241m=\u001b[39m \u001b[43mdistance\u001b[49m\u001b[43m(\u001b[49m\u001b[43mnew_user\u001b[49m\u001b[43m,\u001b[49m\u001b[43m \u001b[49m\u001b[43muser2\u001b[49m\u001b[43m,\u001b[49m\u001b[43m \u001b[49m\u001b[43msame_traits\u001b[49m\u001b[43m,\u001b[49m\u001b[43m \u001b[49m\u001b[43mdifferent_traits\u001b[49m\u001b[43m)\u001b[49m\n\u001b[0;32m     12\u001b[0m     distances\u001b[38;5;241m.\u001b[39mappend((i, d))\n\u001b[0;32m     14\u001b[0m \u001b[38;5;66;03m# Sort by ascending distance (best matches first)\u001b[39;00m\n",
      "Cell \u001b[1;32mIn[21], line 5\u001b[0m, in \u001b[0;36mdistance\u001b[1;34m(user1, user2, same_traits, different_traits)\u001b[0m\n\u001b[0;32m      3\u001b[0m user1 \u001b[38;5;241m=\u001b[39m np\u001b[38;5;241m.\u001b[39marray(user1, dtype\u001b[38;5;241m=\u001b[39m\u001b[38;5;28mfloat\u001b[39m)\u001b[38;5;241m.\u001b[39mflatten()\n\u001b[0;32m      4\u001b[0m user2 \u001b[38;5;241m=\u001b[39m np\u001b[38;5;241m.\u001b[39marray(user2, dtype\u001b[38;5;241m=\u001b[39m\u001b[38;5;28mfloat\u001b[39m)\u001b[38;5;241m.\u001b[39mflatten()\n\u001b[1;32m----> 5\u001b[0m diff \u001b[38;5;241m=\u001b[39m \u001b[43muser1\u001b[49m\u001b[43m \u001b[49m\u001b[38;5;241;43m-\u001b[39;49m\u001b[43m \u001b[49m\u001b[43muser2\u001b[49m \n\u001b[0;32m      6\u001b[0m dist \u001b[38;5;241m=\u001b[39m \u001b[38;5;241m0.0\u001b[39m\n\u001b[0;32m      7\u001b[0m n \u001b[38;5;241m=\u001b[39m \u001b[38;5;28mlen\u001b[39m(user1)\n",
      "\u001b[1;31mValueError\u001b[0m: operands could not be broadcast together with shapes (4,) (5,) "
     ]
    }
   ],
   "source": [
    "# Example: recommend top 3 matches for each user\n",
    "test = [-2.678498, 5.816443, -3.505566, -0.007615]\n",
    "\n",
    "recommend(test, data, same_traits, diff_traits)"
   ]
  },
  {
   "cell_type": "code",
   "execution_count": 100,
   "id": "8d7fc7ac-c6a9-49d7-ba88-3a377c6e68a9",
   "metadata": {},
   "outputs": [
    {
     "data": {
      "text/plain": [
       "array([-1.09788112,  3.04265881,  0.44111017, ..., -1.57584742,\n",
       "       -0.20959295, -0.2375467 ])"
      ]
     },
     "execution_count": 100,
     "metadata": {},
     "output_type": "execute_result"
    }
   ],
   "source": [
    "np.array(data).flatten()"
   ]
  },
  {
   "cell_type": "raw",
   "id": "5a4fea0f-08ed-49b3-8469-5b39294ed05f",
   "metadata": {},
   "source": []
  },
  {
   "cell_type": "code",
   "execution_count": null,
   "id": "762c9854-0608-4b4b-89a8-5c2bf0e2b9aa",
   "metadata": {},
   "outputs": [],
   "source": []
  },
  {
   "cell_type": "code",
   "execution_count": null,
   "id": "a3c40879-e04d-4799-b690-2cd1943cb2fa",
   "metadata": {},
   "outputs": [],
   "source": []
  }
 ],
 "metadata": {
  "kernelspec": {
   "display_name": "lhl_env",
   "language": "python",
   "name": "lhl_env"
  },
  "language_info": {
   "codemirror_mode": {
    "name": "ipython",
    "version": 3
   },
   "file_extension": ".py",
   "mimetype": "text/x-python",
   "name": "python",
   "nbconvert_exporter": "python",
   "pygments_lexer": "ipython3",
   "version": "3.9.21"
  }
 },
 "nbformat": 4,
 "nbformat_minor": 5
}
