{
 "cells": [
  {
   "cell_type": "code",
   "execution_count": 1,
   "id": "e199cec3-1391-42e2-95bf-3b872adaf445",
   "metadata": {},
   "outputs": [],
   "source": [
    "# Imports \n",
    "\n",
    "import pandas as pd \n",
    "import numpy as py \n",
    "import os "
   ]
  },
  {
   "cell_type": "code",
   "execution_count": 41,
   "id": "38fa9b87-2d47-49cc-8c22-b922a05e876a",
   "metadata": {},
   "outputs": [
    {
     "data": {
      "text/html": [
       "<div>\n",
       "<style scoped>\n",
       "    .dataframe tbody tr th:only-of-type {\n",
       "        vertical-align: middle;\n",
       "    }\n",
       "\n",
       "    .dataframe tbody tr th {\n",
       "        vertical-align: top;\n",
       "    }\n",
       "\n",
       "    .dataframe thead th {\n",
       "        text-align: right;\n",
       "    }\n",
       "</style>\n",
       "<table border=\"1\" class=\"dataframe\">\n",
       "  <thead>\n",
       "    <tr style=\"text-align: right;\">\n",
       "      <th></th>\n",
       "      <th>Factor1</th>\n",
       "      <th>Factor2</th>\n",
       "      <th>Factor3</th>\n",
       "      <th>Factor4</th>\n",
       "    </tr>\n",
       "  </thead>\n",
       "  <tbody>\n",
       "    <tr>\n",
       "      <th>0</th>\n",
       "      <td>-1.097881</td>\n",
       "      <td>3.042659</td>\n",
       "      <td>0.441110</td>\n",
       "      <td>1.794368</td>\n",
       "    </tr>\n",
       "    <tr>\n",
       "      <th>1</th>\n",
       "      <td>0.837712</td>\n",
       "      <td>5.054604</td>\n",
       "      <td>4.593511</td>\n",
       "      <td>1.305088</td>\n",
       "    </tr>\n",
       "    <tr>\n",
       "      <th>2</th>\n",
       "      <td>-2.678498</td>\n",
       "      <td>5.816443</td>\n",
       "      <td>-3.505566</td>\n",
       "      <td>-0.007615</td>\n",
       "    </tr>\n",
       "    <tr>\n",
       "      <th>3</th>\n",
       "      <td>14.018654</td>\n",
       "      <td>1.812564</td>\n",
       "      <td>3.009246</td>\n",
       "      <td>-6.586102</td>\n",
       "    </tr>\n",
       "    <tr>\n",
       "      <th>4</th>\n",
       "      <td>-9.822322</td>\n",
       "      <td>-3.651578</td>\n",
       "      <td>0.906058</td>\n",
       "      <td>-2.784624</td>\n",
       "    </tr>\n",
       "    <tr>\n",
       "      <th>...</th>\n",
       "      <td>...</td>\n",
       "      <td>...</td>\n",
       "      <td>...</td>\n",
       "      <td>...</td>\n",
       "    </tr>\n",
       "    <tr>\n",
       "      <th>2759</th>\n",
       "      <td>0.087177</td>\n",
       "      <td>0.925191</td>\n",
       "      <td>-1.526079</td>\n",
       "      <td>-3.750073</td>\n",
       "    </tr>\n",
       "    <tr>\n",
       "      <th>2760</th>\n",
       "      <td>-3.611693</td>\n",
       "      <td>2.389590</td>\n",
       "      <td>7.200176</td>\n",
       "      <td>-3.914275</td>\n",
       "    </tr>\n",
       "    <tr>\n",
       "      <th>2761</th>\n",
       "      <td>-4.682466</td>\n",
       "      <td>-2.267832</td>\n",
       "      <td>-0.798776</td>\n",
       "      <td>2.611891</td>\n",
       "    </tr>\n",
       "    <tr>\n",
       "      <th>2762</th>\n",
       "      <td>1.248353</td>\n",
       "      <td>-2.739698</td>\n",
       "      <td>-2.559083</td>\n",
       "      <td>-5.045817</td>\n",
       "    </tr>\n",
       "    <tr>\n",
       "      <th>2763</th>\n",
       "      <td>-3.917706</td>\n",
       "      <td>-1.575847</td>\n",
       "      <td>-0.209593</td>\n",
       "      <td>-0.237547</td>\n",
       "    </tr>\n",
       "  </tbody>\n",
       "</table>\n",
       "<p>2764 rows × 4 columns</p>\n",
       "</div>"
      ],
      "text/plain": [
       "        Factor1   Factor2   Factor3   Factor4\n",
       "0     -1.097881  3.042659  0.441110  1.794368\n",
       "1      0.837712  5.054604  4.593511  1.305088\n",
       "2     -2.678498  5.816443 -3.505566 -0.007615\n",
       "3     14.018654  1.812564  3.009246 -6.586102\n",
       "4     -9.822322 -3.651578  0.906058 -2.784624\n",
       "...         ...       ...       ...       ...\n",
       "2759   0.087177  0.925191 -1.526079 -3.750073\n",
       "2760  -3.611693  2.389590  7.200176 -3.914275\n",
       "2761  -4.682466 -2.267832 -0.798776  2.611891\n",
       "2762   1.248353 -2.739698 -2.559083 -5.045817\n",
       "2763  -3.917706 -1.575847 -0.209593 -0.237547\n",
       "\n",
       "[2764 rows x 4 columns]"
      ]
     },
     "execution_count": 41,
     "metadata": {},
     "output_type": "execute_result"
    }
   ],
   "source": [
    "data = pd.read_csv('../data/data_reduced.csv')\n",
    "raw_data = pd.read_csv('../data/data_notscaled.csv')\n",
    "data"
   ]
  },
  {
   "cell_type": "markdown",
   "id": "c6f56bcd-d212-4f06-9b3d-2d507665d581",
   "metadata": {},
   "source": [
    "I want to give the user the option to see recommended cats that are most or least like their own cat in each trait. In order to do so I will define a custom distance. If the user wants to see cats that are most similar in trait1 and trait3, but least similar in trait2 and trait4, the distance will have to be minimized for the former and maximized for the latter. "
   ]
  },
  {
   "cell_type": "code",
   "execution_count": 20,
   "id": "eed23f68-42af-4e44-831b-eb5fa801d495",
   "metadata": {},
   "outputs": [],
   "source": [
    "traits = data.columns.tolist()`"
   ]
  },
  {
   "cell_type": "code",
   "execution_count": 63,
   "id": "cac75bf8-1d8b-432d-8f78-8f8bf67ad58f",
   "metadata": {},
   "outputs": [],
   "source": [
    "def distance(user1, user2, same_traits, different_traits):\n",
    "    diff = user1 - user2\n",
    "    dist = 0.0\n",
    "    \n",
    "    for i in same_traits:\n",
    "        dist += diff[i] ** 2\n",
    "\n",
    "    for i in different_traits:\n",
    "        dist += (49 - diff[i] ** 2)\n",
    "\n",
    "    return dist"
   ]
  },
  {
   "cell_type": "code",
   "execution_count": 61,
   "id": "5c759e75-02f5-436f-95a2-421e7f65ac59",
   "metadata": {},
   "outputs": [],
   "source": [
    "# Example: recommend top 3 matches for each user\n",
    "test = [-2.678498, 5.816443, -3.505566, -0.007615]\n",
    "same_traits = ['Factor1', 'Factor3']\n",
    "diff_traits = ['Factor2', 'Factor4']\n",
    "\n",
    "recs = recommend(test, data, same_traits, diff_traits, top_k=3)"
   ]
  },
  {
   "cell_type": "code",
   "execution_count": 62,
   "id": "97867fff-1b42-43d3-ba2d-dc32fc68f27c",
   "metadata": {},
   "outputs": [
    {
     "data": {
      "text/plain": [
       "[(507, -203.68930532329114),\n",
       " (601, -202.5516533226186),\n",
       " (154, -189.84925171327623)]"
      ]
     },
     "execution_count": 62,
     "metadata": {},
     "output_type": "execute_result"
    }
   ],
   "source": [
    "recs"
   ]
  },
  {
   "cell_type": "code",
   "execution_count": null,
   "id": "a3c40879-e04d-4799-b690-2cd1943cb2fa",
   "metadata": {},
   "outputs": [],
   "source": []
  }
 ],
 "metadata": {
  "kernelspec": {
   "display_name": "lhl_env",
   "language": "python",
   "name": "lhl_env"
  },
  "language_info": {
   "codemirror_mode": {
    "name": "ipython",
    "version": 3
   },
   "file_extension": ".py",
   "mimetype": "text/x-python",
   "name": "python",
   "nbconvert_exporter": "python",
   "pygments_lexer": "ipython3",
   "version": "3.9.21"
  }
 },
 "nbformat": 4,
 "nbformat_minor": 5
}
