# Imports

from sklearn.decomposition import PCA 
from sklearn.preprocessing import StandardScaler
import matplotlib.pyplot as plt
import seaborn as sns
import pandas as pd 
import numpy as np 
import os


data = pd.read_csv('../data/data_notscaled.csv')


data


# Isolating traits from Cat_sex and scaling: 

traits = data.drop(columns=['Cat_sex'])
# scaler = StandardScaler()
# scaler.fit(traits)
# traits_scaled = scaler.transform(traits)
# scaled_traits = pd.DataFrame(data=traits_scaled, columns=traits.columns)








plot_pca = PCA(n_components=10)
plot_pca.fit_transform(traits)
ev_ratio = plot_pca.explained_variance_ratio_
PC_numbers = np.arange(plot_pca.n_components_) + 1

plt.plot(PC_numbers, ev_ratio, 'ro-')

%matplotlib inline





pca = PCA(n_components=5)
pc = pca.fit_transform(traits)
ev_ratio = pca.explained_variance_ratio_





loadings = pd.DataFrame(pca.components_.T, columns=['PC1', 'PC2', 'PC3', 'PC4', 'PC5'], index=traits.columns)





loadings['weight'] = loadings['PC1'] **2 + loadings['PC2'] **2 + loadings['PC3'] **2 + loadings['PC4'] **2 + loadings['PC5'] **2


loadings.sort_values(by='weight').head(10)





loadings_sorted = loadings.sort_values(by='weight')
plt.figure(figsize=(10, 4))
plt.plot(range(len(loadings_sorted)), loadings_sorted['weight'].values, marker='o')
plt.title('Trait Contribution to PCA')
plt.xlabel('Trait Index (sorted by weight)')
plt.ylabel('Weight')
plt.grid(True)
plt.show()





lowest_weighed = loadings_sorted[loadings_sorted['weight'] < 0.05]
to_drop = pd.Series(lowest_weighed.index)
traits = traits.drop(columns=to_drop)
traits #6 traits were dropped





from sklearn.decomposition import FactorAnalysis

fa = FactorAnalysis(n_components=5, random_state=13) # starting the the same k value as PCA according to my elbow graph
fa1 = fa.fit_transform(traits.values)


loadings = pd.DataFrame(fa.components_.T, 
                        index=traits.columns, 
                        columns=[f"Factor{i+1}" for i in range(5)])


loadings.head()





plt.figure(figsize=(12, 8))
sns.heatmap(loadings, cmap='coolwarm', center=0, annot=False)
plt.title("Factor Loadings (Traits × Factors)")
plt.xlabel("Factors")
plt.ylabel("Traits")
plt.tight_layout()
plt.show()





loadings['weight'] = loadings['Factor1'] **2 + loadings['Factor2'] **2 + loadings['Factor3'] **2 + loadings['Factor4'] **2 + loadings['Factor5'] **2
loadings_sorted = loadings.sort_values(by='weight')
plt.figure(figsize=(10, 4))
plt.plot(range(len(loadings_sorted)), loadings_sorted['weight'].values, marker='o')
plt.title('Trait Contribution to FA')
plt.xlabel('Trait Index (sorted by weight)')
plt.ylabel('Weight')
plt.grid(True)
plt.show()





lowest_weighed = loadings_sorted[loadings_sorted['weight'] < 0.7]
plt.figure(figsize=(12, 8))
sns.heatmap(lowest_weighed, cmap='coolwarm', center=0, annot=True)
plt.title("Factor Loadings (Traits × Factors)")
plt.xlabel("Factors")
plt.ylabel("Traits")
plt.tight_layout()
plt.show()





traits = traits.drop(columns=(['Vigilant', 'Clumsy', 'Independent', 'Predictable', 'Vocal']))


# Redoing FA with 4 factors and less traits 


fa = FactorAnalysis(n_components=4, random_state=10) 
fa1 = fa.fit_transform(traits.values)


loadings = pd.DataFrame(fa.components_.T, 
                        index=traits.columns, 
                        columns=[f"Factor{i+1}" for i in range(4)])





plt.figure(figsize=(12, 8))
sns.heatmap(loadings, cmap='coolwarm', center=0, annot=True)
plt.title("Factor Loadings (Traits × Factors)")
plt.xlabel("Factors")
plt.ylabel("Traits")
plt.tight_layout()
plt.show()


# Reducing all scaled traits into 4 factors:

data_reduced = traits @ loadings 


data_reduced.describe()


# Adding 'cat_sex' back to the reduced data

data_reduced['Cat_sex'] = data['Cat_sex']





# Saving scaled and reduced data to directory

current_dir = os.getcwd()
main_dir = os.path.abspath(os.path.join(current_dir, '..'))
data_dir = os.path.abspath(os.path.join(main_dir, 'data'))
data_reduced.to_csv(os.path.join(data_dir, 'data_reduced.csv'), index=False)



objects_dir =os.path.abspath(os.path.join(main_dir, 'objects'))
os.makedirs(objects_dir, exist_ok=True)
