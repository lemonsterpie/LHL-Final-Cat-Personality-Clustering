# Imports 

from sklearn.metrics import pairwise_distances
import pandas as pd 
import numpy as np
import os 


data = pd.read_csv('../data/data_reduced.csv')
raw_data = pd.read_csv('../data/data_notscaled.csv')
traits = data[['Factor1', 'Factor2', 'Factor3', 'Factor4']]








traits.describe()


means = np.array([-28.61, 34.03, -29.41, 2.44])
stds = np.array([24.04, 16.21, 7.36, 6.89])

def input_to_factor(user_input):
    """
    Transforms a new user's 1–7 input into the same scale as factor scores.
    """
    # Convert 1–7 scale to z-score-like values in range [-3, 3]
    user_input = np.array(user_input)
    z_approx = (user_input - 4) * (6 / 6)  # i.e., 1 -> -3, 4 -> 0, 7 -> +3

    # Map z_approx into the actual distribution of factor scores
    transformed = z_approx * stds + means
    return transformed





# Defining the maxmimun distance squared for each trait

max_dists_sq = (traits.max() - traits.min()) ** 2


def distance(user1, user2, same_traits=None, different_traits=None, factors=None):

    if factors is not None:
        user1 = pd.Series(user1, index=factors)
        user2 = pd.Series(user2, index=factors)
    else:
        user1 = pd.Series(user1)
        user2 = pd.Series(user2)
        
    diff = user1 - user2 
    dist = 0.0
    n = len(user1)

    # if no traits are specified to be similar or different, the default is to recommend based on similarities in all traits 
    if same_traits is None and different_traits is None:
        same_traits = range(n)
        different_traits = []

    elif same_traits is None:
        same_traits = [i for i in range(n) if i not in different_traits]
        
    elif different_traits is None:
        different_traits = [i for i in range(n) if i not in same_traits]
        
    for i in same_traits:
        dist += diff.iloc[i] ** 2

    for i in different_traits:
        max_val = max_dists_sq.iloc[i]
        dist += (max_val - diff.iloc[i] ** 2)

    return dist





def recommend(new_user, data, same_traits=None, different_traits=None, n_recs=10, factors=None, sex='all'):
    distances = []

    # Factor names must match data columns
    all_factors = [col for col in data.columns if col != 'Cat_sex']

    # Convert user input to Series with labels matching data
    new_user = pd.Series(input_to_factor(new_user), index=all_factors)

    if factors is None:
        factors = all_factors

    # Filter both user and dataset to selected factors
    data = data[factors + ['Cat_sex']]
    new_user = new_user[factors]

    if sex != 'all':
        data = data[data['Cat_sex'] == sex]

    for i, row in data.iterrows(): 
        user2 = np.array(row[factors], dtype=float)
        d = distance(new_user, user2, same_traits, different_traits, factors)
        distances.append((i, d))
    
    distances.sort(key=lambda x: x[1])
    top_indices = [idx for idx, _ in distances[:n_recs]]
    top_distances = [dist for _, dist in distances[:n_recs]]

    top_rows = data.loc[top_indices].copy()
    top_rows['match_score'] = top_distances

    return top_rows





# default params 


user1 = [5, 7, 4, 1]


recommend(user1, data)


# same_traits, different_traits


user2 = [1, 2, 5, 7]
same_traits = [0, 1]
different_traits = [2, 3]


recommend(user2, data, same_traits=same_traits, different_traits=different_traits, n_recs=20)


## Only specific factors 


user3 = [1, 4, 6, 4]
factors3 = ['Factor1', 'Factor2']


recommend(user3, data, factors=factors3)


# Specific cat sex


user4 = [2, 2, 4, 5]


recommend(user4, data, sex=0)



