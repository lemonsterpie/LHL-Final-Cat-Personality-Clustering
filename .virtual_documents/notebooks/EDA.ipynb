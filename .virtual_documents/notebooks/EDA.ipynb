# Imports 

from sklearn.preprocessing import LabelBinarizer 
import pandas as pd 
import numpy as np 
import matplotlib.pyplot as plt 
import seaborn as sns 
import os 


data = pd.read_csv('../data/data_preprocessed.csv')








sns.histplot(data['Country'])
sns.histplot(data['Cat_sex'])
plt.xlabel('')
plt.ylabel('Frequency')

%matplotlib inline





traits = data.select_dtypes(include='int64')

fig, axes = plt.subplots(13, 4, figsize=(20, 60), sharey=True)
axes = axes.flatten()


for i, column in enumerate(traits.columns):
    sns.histplot(data[column], ax=axes[i], bins=7)
    # axes[i].set_title(f"Histogram of {column}")
    axes[i].set_xlabel(column, fontsize=16)
    axes[i].set_ylabel("")
    

plt.suptitle('Frequency Distributions for each Personality Trait', fontsize=20)
plt.tight_layout(rect=[0, 0, 1, 0.98]) 
plt.show()

%matplotlib inline








# Encoding `Country` and `Cat_sex` columns 

lb = LabelBinarizer()
lb.fit(data['Country'])
country_values = lb.transform(data['Country'])
data['Country'] = country_values

lb.fit(data['Cat_sex'])
catsex_values = lb.transform(data['Cat_sex'])
data['Cat_sex'] = catsex_values


correlation_matrix = data.corr()


plt.figure(figsize=(18, 15))

# Only annotating pairs where the correlation is > 0.5
threshold = 0.5
annot = correlation_matrix.map(lambda v: f"{v:.2f}" if abs(v) >= threshold else "")

sns.heatmap(
    correlation_matrix,
    cmap='coolwarm',
    vmin=-1, vmax=1,
    annot=annot, 
    fmt='',
    square=True,
    xticklabels=True,
    yticklabels=True
)
plt.title('Pairwise Correlation Heatmap of Personality Traits', fontsize=16)
plt.tight_layout()
plt.show()





data = data.drop(columns=['Eccentric', 'Country'])





correlation_matrix.replace(to_replace=1, value=np.nan, inplace=True)
pairs = correlation_matrix.unstack().dropna()
pairs = pairs[pairs.abs() > 0.5]
pairs = pairs[pairs.index.map(lambda x: x[0] < x[1])]
pairs = pairs.reindex(pairs.abs().sort_values(ascending=False).index)
pairs


# Saving modified data to directory 

current_dir = os.getcwd()
main_dir = os.path.abspath(os.path.join(current_dir, '..'))
data_dir = os.path.abspath(os.path.join(main_dir, 'data'))
data.to_csv(os.path.join(data_dir, 'data_notscaled.csv'), index=False)
